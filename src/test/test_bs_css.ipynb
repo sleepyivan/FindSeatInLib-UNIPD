{
 "cells": [
  {
   "cell_type": "code",
   "execution_count": 1,
   "id": "ef190b4e",
   "metadata": {},
   "outputs": [],
   "source": [
    "from bs4 import BeautifulSoup\n",
    "import requests\n",
    "\n",
    "from datetime import datetime\n",
    "import pandas as pd"
   ]
  },
  {
   "cell_type": "code",
   "execution_count": 2,
   "id": "fb9757ab",
   "metadata": {},
   "outputs": [],
   "source": [
    "\n",
    "\n",
    "def parseRoom(room_url):\n",
    "    room_page = requests.get(room_url)\n",
    "    soup = BeautifulSoup(room_page.content, 'html.parser')\n",
    "\n",
    "    room_name = soup.select_one('h1').get_text(strip=True)\n",
    "    output = {'room_name': room_name, 'date': date, 'seat_name': [], 'availability': []}\n",
    "\n",
    "    seats_nodes = soup.select('app-search-resource app-results ul li')\n",
    "\n",
    "    def parseSeat(seat_node):\n",
    "        seat_name = seat_node.select_one('h2').get_text(strip=True)\n",
    "        availability = seat_node.select('app-available-resource-time-slots > div:first-child button:not([disabled]) time')\n",
    "        availability = [time.get('datetime') for time in availability]\n",
    "        return seat_name, availability\n",
    "\n",
    "    for seat_node in seats_nodes:\n",
    "        seat_name, availability = parseSeat(seat_node)\n",
    "        output['seat_name'].append(seat_name)\n",
    "        output['availability'].append(availability)\n",
    "\n",
    "    return pd.DataFrame(output)"
   ]
  },
  {
   "cell_type": "code",
   "execution_count": 3,
   "id": "cbc58d51",
   "metadata": {},
   "outputs": [],
   "source": [
    "date = datetime.today().strftime('%Y-%m-%d')"
   ]
  },
  {
   "cell_type": "code",
   "execution_count": 4,
   "id": "a4d7d5d0",
   "metadata": {},
   "outputs": [],
   "source": [
    "start_urls = {'beato': \"https://affluences.com/en/sites/biblioteca-beato-pellegrino/reservation\"}\n",
    "start_url = start_urls['beato']"
   ]
  },
  {
   "cell_type": "code",
   "execution_count": 5,
   "id": "c3324144",
   "metadata": {},
   "outputs": [],
   "source": [
    "def parseLib(lib_url, date):\n",
    "    lib_page = requests.get(lib_url)\n",
    "    soup = BeautifulSoup(lib_page.content, 'html.parser')\n",
    "\n",
    "    rooms_nodes = soup.select('ul li a')\n",
    "\n",
    "    output = pd.DataFrame()\n",
    "\n",
    "    for room_node in rooms_nodes:\n",
    "        room_url = 'https://affluences.com' + room_node.get('href') + '&date=' + date\n",
    "        room_df = parseRoom(room_url)\n",
    "        output = pd.concat([output, room_df], ignore_index=True)\n",
    "\n",
    "    return output"
   ]
  },
  {
   "cell_type": "code",
   "execution_count": null,
   "id": "96409174",
   "metadata": {},
   "outputs": [],
   "source": [
    "output = parseLib(start_url, date)\n"
   ]
  },
  {
   "cell_type": "code",
   "execution_count": null,
   "id": "d909b567",
   "metadata": {},
   "outputs": [],
   "source": [
    "output.to_csv('../../data/lib-beato.csv', index=False)"
   ]
  }
 ],
 "metadata": {
  "kernelspec": {
   "display_name": "findseat",
   "language": "python",
   "name": "python3"
  },
  "language_info": {
   "codemirror_mode": {
    "name": "ipython",
    "version": 3
   },
   "file_extension": ".py",
   "mimetype": "text/x-python",
   "name": "python",
   "nbconvert_exporter": "python",
   "pygments_lexer": "ipython3",
   "version": "3.12.11"
  }
 },
 "nbformat": 4,
 "nbformat_minor": 5
}
